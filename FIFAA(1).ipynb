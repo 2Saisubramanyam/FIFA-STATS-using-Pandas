{
  "nbformat": 4,
  "nbformat_minor": 0,
  "metadata": {
    "kernelspec": {
      "display_name": "Python 3",
      "language": "python",
      "name": "python3"
    },
    "language_info": {
      "codemirror_mode": {
        "name": "ipython",
        "version": 3
      },
      "file_extension": ".py",
      "mimetype": "text/x-python",
      "name": "python",
      "nbconvert_exporter": "python",
      "pygments_lexer": "ipython3",
      "version": "3.8.2"
    },
    "colab": {
      "name": "FIFAA(1).ipynb",
      "provenance": [],
      "include_colab_link": true
    }
  },
  "cells": [
    {
      "cell_type": "markdown",
      "metadata": {
        "id": "view-in-github",
        "colab_type": "text"
      },
      "source": [
        "<a href=\"https://colab.research.google.com/github/2Saisubramanyam/FIFA-STATS-using-Pandas/blob/master/FIFAA(1).ipynb\" target=\"_parent\"><img src=\"https://colab.research.google.com/assets/colab-badge.svg\" alt=\"Open In Colab\"/></a>"
      ]
    },
    {
      "cell_type": "markdown",
      "metadata": {
        "id": "pHngXFvF0hoB"
      },
      "source": [
        "### IMPORTS\n"
      ]
    },
    {
      "cell_type": "code",
      "metadata": {
        "id": "QKiKFl570hoC"
      },
      "source": [
        "import numpy as np\n",
        "import pandas as pd\n",
        "import matplotlib.pyplot as plt"
      ],
      "execution_count": null,
      "outputs": []
    },
    {
      "cell_type": "markdown",
      "metadata": {
        "id": "t-7Z5gEZ0hoG"
      },
      "source": [
        "## Reading Data set and printing Top 5 Players\n"
      ]
    },
    {
      "cell_type": "code",
      "metadata": {
        "id": "PfL85VQ40hoG",
        "outputId": "9ff458d6-c20f-41c6-be0e-a5429819caa0"
      },
      "source": [
        "fifa = pd.read_csv('fifa_data.csv')\n",
        "fifa.head(5)\n"
      ],
      "execution_count": null,
      "outputs": [
        {
          "output_type": "execute_result",
          "data": {
            "text/html": [
              "<div>\n",
              "<style scoped>\n",
              "    .dataframe tbody tr th:only-of-type {\n",
              "        vertical-align: middle;\n",
              "    }\n",
              "\n",
              "    .dataframe tbody tr th {\n",
              "        vertical-align: top;\n",
              "    }\n",
              "\n",
              "    .dataframe thead th {\n",
              "        text-align: right;\n",
              "    }\n",
              "</style>\n",
              "<table border=\"1\" class=\"dataframe\">\n",
              "  <thead>\n",
              "    <tr style=\"text-align: right;\">\n",
              "      <th></th>\n",
              "      <th>Unnamed: 0</th>\n",
              "      <th>ID</th>\n",
              "      <th>Name</th>\n",
              "      <th>Age</th>\n",
              "      <th>Photo</th>\n",
              "      <th>Nationality</th>\n",
              "      <th>Flag</th>\n",
              "      <th>Overall</th>\n",
              "      <th>Potential</th>\n",
              "      <th>Club</th>\n",
              "      <th>...</th>\n",
              "      <th>Composure</th>\n",
              "      <th>Marking</th>\n",
              "      <th>StandingTackle</th>\n",
              "      <th>SlidingTackle</th>\n",
              "      <th>GKDiving</th>\n",
              "      <th>GKHandling</th>\n",
              "      <th>GKKicking</th>\n",
              "      <th>GKPositioning</th>\n",
              "      <th>GKReflexes</th>\n",
              "      <th>Release Clause</th>\n",
              "    </tr>\n",
              "  </thead>\n",
              "  <tbody>\n",
              "    <tr>\n",
              "      <th>0</th>\n",
              "      <td>0</td>\n",
              "      <td>158023</td>\n",
              "      <td>L. Messi</td>\n",
              "      <td>31</td>\n",
              "      <td>https://cdn.sofifa.org/players/4/19/158023.png</td>\n",
              "      <td>Argentina</td>\n",
              "      <td>https://cdn.sofifa.org/flags/52.png</td>\n",
              "      <td>94</td>\n",
              "      <td>94</td>\n",
              "      <td>FC Barcelona</td>\n",
              "      <td>...</td>\n",
              "      <td>96.0</td>\n",
              "      <td>33.0</td>\n",
              "      <td>28.0</td>\n",
              "      <td>26.0</td>\n",
              "      <td>6.0</td>\n",
              "      <td>11.0</td>\n",
              "      <td>15.0</td>\n",
              "      <td>14.0</td>\n",
              "      <td>8.0</td>\n",
              "      <td>€226.5M</td>\n",
              "    </tr>\n",
              "    <tr>\n",
              "      <th>1</th>\n",
              "      <td>1</td>\n",
              "      <td>20801</td>\n",
              "      <td>Cristiano Ronaldo</td>\n",
              "      <td>33</td>\n",
              "      <td>https://cdn.sofifa.org/players/4/19/20801.png</td>\n",
              "      <td>Portugal</td>\n",
              "      <td>https://cdn.sofifa.org/flags/38.png</td>\n",
              "      <td>94</td>\n",
              "      <td>94</td>\n",
              "      <td>Juventus</td>\n",
              "      <td>...</td>\n",
              "      <td>95.0</td>\n",
              "      <td>28.0</td>\n",
              "      <td>31.0</td>\n",
              "      <td>23.0</td>\n",
              "      <td>7.0</td>\n",
              "      <td>11.0</td>\n",
              "      <td>15.0</td>\n",
              "      <td>14.0</td>\n",
              "      <td>11.0</td>\n",
              "      <td>€127.1M</td>\n",
              "    </tr>\n",
              "    <tr>\n",
              "      <th>2</th>\n",
              "      <td>2</td>\n",
              "      <td>190871</td>\n",
              "      <td>Neymar Jr</td>\n",
              "      <td>26</td>\n",
              "      <td>https://cdn.sofifa.org/players/4/19/190871.png</td>\n",
              "      <td>Brazil</td>\n",
              "      <td>https://cdn.sofifa.org/flags/54.png</td>\n",
              "      <td>92</td>\n",
              "      <td>93</td>\n",
              "      <td>Paris Saint-Germain</td>\n",
              "      <td>...</td>\n",
              "      <td>94.0</td>\n",
              "      <td>27.0</td>\n",
              "      <td>24.0</td>\n",
              "      <td>33.0</td>\n",
              "      <td>9.0</td>\n",
              "      <td>9.0</td>\n",
              "      <td>15.0</td>\n",
              "      <td>15.0</td>\n",
              "      <td>11.0</td>\n",
              "      <td>€228.1M</td>\n",
              "    </tr>\n",
              "    <tr>\n",
              "      <th>3</th>\n",
              "      <td>3</td>\n",
              "      <td>193080</td>\n",
              "      <td>De Gea</td>\n",
              "      <td>27</td>\n",
              "      <td>https://cdn.sofifa.org/players/4/19/193080.png</td>\n",
              "      <td>Spain</td>\n",
              "      <td>https://cdn.sofifa.org/flags/45.png</td>\n",
              "      <td>91</td>\n",
              "      <td>93</td>\n",
              "      <td>Manchester United</td>\n",
              "      <td>...</td>\n",
              "      <td>68.0</td>\n",
              "      <td>15.0</td>\n",
              "      <td>21.0</td>\n",
              "      <td>13.0</td>\n",
              "      <td>90.0</td>\n",
              "      <td>85.0</td>\n",
              "      <td>87.0</td>\n",
              "      <td>88.0</td>\n",
              "      <td>94.0</td>\n",
              "      <td>€138.6M</td>\n",
              "    </tr>\n",
              "    <tr>\n",
              "      <th>4</th>\n",
              "      <td>4</td>\n",
              "      <td>192985</td>\n",
              "      <td>K. De Bruyne</td>\n",
              "      <td>27</td>\n",
              "      <td>https://cdn.sofifa.org/players/4/19/192985.png</td>\n",
              "      <td>Belgium</td>\n",
              "      <td>https://cdn.sofifa.org/flags/7.png</td>\n",
              "      <td>91</td>\n",
              "      <td>92</td>\n",
              "      <td>Manchester City</td>\n",
              "      <td>...</td>\n",
              "      <td>88.0</td>\n",
              "      <td>68.0</td>\n",
              "      <td>58.0</td>\n",
              "      <td>51.0</td>\n",
              "      <td>15.0</td>\n",
              "      <td>13.0</td>\n",
              "      <td>5.0</td>\n",
              "      <td>10.0</td>\n",
              "      <td>13.0</td>\n",
              "      <td>€196.4M</td>\n",
              "    </tr>\n",
              "  </tbody>\n",
              "</table>\n",
              "<p>5 rows × 89 columns</p>\n",
              "</div>"
            ],
            "text/plain": [
              "   Unnamed: 0      ID               Name  Age  \\\n",
              "0           0  158023           L. Messi   31   \n",
              "1           1   20801  Cristiano Ronaldo   33   \n",
              "2           2  190871          Neymar Jr   26   \n",
              "3           3  193080             De Gea   27   \n",
              "4           4  192985       K. De Bruyne   27   \n",
              "\n",
              "                                            Photo Nationality  \\\n",
              "0  https://cdn.sofifa.org/players/4/19/158023.png   Argentina   \n",
              "1   https://cdn.sofifa.org/players/4/19/20801.png    Portugal   \n",
              "2  https://cdn.sofifa.org/players/4/19/190871.png      Brazil   \n",
              "3  https://cdn.sofifa.org/players/4/19/193080.png       Spain   \n",
              "4  https://cdn.sofifa.org/players/4/19/192985.png     Belgium   \n",
              "\n",
              "                                  Flag  Overall  Potential  \\\n",
              "0  https://cdn.sofifa.org/flags/52.png       94         94   \n",
              "1  https://cdn.sofifa.org/flags/38.png       94         94   \n",
              "2  https://cdn.sofifa.org/flags/54.png       92         93   \n",
              "3  https://cdn.sofifa.org/flags/45.png       91         93   \n",
              "4   https://cdn.sofifa.org/flags/7.png       91         92   \n",
              "\n",
              "                  Club  ... Composure Marking StandingTackle  SlidingTackle  \\\n",
              "0         FC Barcelona  ...      96.0    33.0           28.0           26.0   \n",
              "1             Juventus  ...      95.0    28.0           31.0           23.0   \n",
              "2  Paris Saint-Germain  ...      94.0    27.0           24.0           33.0   \n",
              "3    Manchester United  ...      68.0    15.0           21.0           13.0   \n",
              "4      Manchester City  ...      88.0    68.0           58.0           51.0   \n",
              "\n",
              "  GKDiving  GKHandling  GKKicking  GKPositioning GKReflexes Release Clause  \n",
              "0      6.0        11.0       15.0           14.0        8.0        €226.5M  \n",
              "1      7.0        11.0       15.0           14.0       11.0        €127.1M  \n",
              "2      9.0         9.0       15.0           15.0       11.0        €228.1M  \n",
              "3     90.0        85.0       87.0           88.0       94.0        €138.6M  \n",
              "4     15.0        13.0        5.0           10.0       13.0        €196.4M  \n",
              "\n",
              "[5 rows x 89 columns]"
            ]
          },
          "metadata": {
            "tags": []
          },
          "execution_count": 5
        }
      ]
    },
    {
      "cell_type": "markdown",
      "metadata": {
        "id": "xXfbrM_E0hoM"
      },
      "source": [
        "# last 5 players"
      ]
    },
    {
      "cell_type": "code",
      "metadata": {
        "id": "kreJ42Lk0hoM",
        "outputId": "efdcaf01-6512-495e-9bba-b8cca967bd90"
      },
      "source": [
        "fifa.tail(5)"
      ],
      "execution_count": null,
      "outputs": [
        {
          "output_type": "execute_result",
          "data": {
            "text/html": [
              "<div>\n",
              "<style scoped>\n",
              "    .dataframe tbody tr th:only-of-type {\n",
              "        vertical-align: middle;\n",
              "    }\n",
              "\n",
              "    .dataframe tbody tr th {\n",
              "        vertical-align: top;\n",
              "    }\n",
              "\n",
              "    .dataframe thead th {\n",
              "        text-align: right;\n",
              "    }\n",
              "</style>\n",
              "<table border=\"1\" class=\"dataframe\">\n",
              "  <thead>\n",
              "    <tr style=\"text-align: right;\">\n",
              "      <th></th>\n",
              "      <th>Unnamed: 0</th>\n",
              "      <th>ID</th>\n",
              "      <th>Name</th>\n",
              "      <th>Age</th>\n",
              "      <th>Photo</th>\n",
              "      <th>Nationality</th>\n",
              "      <th>Flag</th>\n",
              "      <th>Overall</th>\n",
              "      <th>Potential</th>\n",
              "      <th>Club</th>\n",
              "      <th>...</th>\n",
              "      <th>Composure</th>\n",
              "      <th>Marking</th>\n",
              "      <th>StandingTackle</th>\n",
              "      <th>SlidingTackle</th>\n",
              "      <th>GKDiving</th>\n",
              "      <th>GKHandling</th>\n",
              "      <th>GKKicking</th>\n",
              "      <th>GKPositioning</th>\n",
              "      <th>GKReflexes</th>\n",
              "      <th>Release Clause</th>\n",
              "    </tr>\n",
              "  </thead>\n",
              "  <tbody>\n",
              "    <tr>\n",
              "      <th>18202</th>\n",
              "      <td>18202</td>\n",
              "      <td>238813</td>\n",
              "      <td>J. Lundstram</td>\n",
              "      <td>19</td>\n",
              "      <td>https://cdn.sofifa.org/players/4/19/238813.png</td>\n",
              "      <td>England</td>\n",
              "      <td>https://cdn.sofifa.org/flags/14.png</td>\n",
              "      <td>47</td>\n",
              "      <td>65</td>\n",
              "      <td>Crewe Alexandra</td>\n",
              "      <td>...</td>\n",
              "      <td>45.0</td>\n",
              "      <td>40.0</td>\n",
              "      <td>48.0</td>\n",
              "      <td>47.0</td>\n",
              "      <td>10.0</td>\n",
              "      <td>13.0</td>\n",
              "      <td>7.0</td>\n",
              "      <td>8.0</td>\n",
              "      <td>9.0</td>\n",
              "      <td>€143K</td>\n",
              "    </tr>\n",
              "    <tr>\n",
              "      <th>18203</th>\n",
              "      <td>18203</td>\n",
              "      <td>243165</td>\n",
              "      <td>N. Christoffersson</td>\n",
              "      <td>19</td>\n",
              "      <td>https://cdn.sofifa.org/players/4/19/243165.png</td>\n",
              "      <td>Sweden</td>\n",
              "      <td>https://cdn.sofifa.org/flags/46.png</td>\n",
              "      <td>47</td>\n",
              "      <td>63</td>\n",
              "      <td>Trelleborgs FF</td>\n",
              "      <td>...</td>\n",
              "      <td>42.0</td>\n",
              "      <td>22.0</td>\n",
              "      <td>15.0</td>\n",
              "      <td>19.0</td>\n",
              "      <td>10.0</td>\n",
              "      <td>9.0</td>\n",
              "      <td>9.0</td>\n",
              "      <td>5.0</td>\n",
              "      <td>12.0</td>\n",
              "      <td>€113K</td>\n",
              "    </tr>\n",
              "    <tr>\n",
              "      <th>18204</th>\n",
              "      <td>18204</td>\n",
              "      <td>241638</td>\n",
              "      <td>B. Worman</td>\n",
              "      <td>16</td>\n",
              "      <td>https://cdn.sofifa.org/players/4/19/241638.png</td>\n",
              "      <td>England</td>\n",
              "      <td>https://cdn.sofifa.org/flags/14.png</td>\n",
              "      <td>47</td>\n",
              "      <td>67</td>\n",
              "      <td>Cambridge United</td>\n",
              "      <td>...</td>\n",
              "      <td>41.0</td>\n",
              "      <td>32.0</td>\n",
              "      <td>13.0</td>\n",
              "      <td>11.0</td>\n",
              "      <td>6.0</td>\n",
              "      <td>5.0</td>\n",
              "      <td>10.0</td>\n",
              "      <td>6.0</td>\n",
              "      <td>13.0</td>\n",
              "      <td>€165K</td>\n",
              "    </tr>\n",
              "    <tr>\n",
              "      <th>18205</th>\n",
              "      <td>18205</td>\n",
              "      <td>246268</td>\n",
              "      <td>D. Walker-Rice</td>\n",
              "      <td>17</td>\n",
              "      <td>https://cdn.sofifa.org/players/4/19/246268.png</td>\n",
              "      <td>England</td>\n",
              "      <td>https://cdn.sofifa.org/flags/14.png</td>\n",
              "      <td>47</td>\n",
              "      <td>66</td>\n",
              "      <td>Tranmere Rovers</td>\n",
              "      <td>...</td>\n",
              "      <td>46.0</td>\n",
              "      <td>20.0</td>\n",
              "      <td>25.0</td>\n",
              "      <td>27.0</td>\n",
              "      <td>14.0</td>\n",
              "      <td>6.0</td>\n",
              "      <td>14.0</td>\n",
              "      <td>8.0</td>\n",
              "      <td>9.0</td>\n",
              "      <td>€143K</td>\n",
              "    </tr>\n",
              "    <tr>\n",
              "      <th>18206</th>\n",
              "      <td>18206</td>\n",
              "      <td>246269</td>\n",
              "      <td>G. Nugent</td>\n",
              "      <td>16</td>\n",
              "      <td>https://cdn.sofifa.org/players/4/19/246269.png</td>\n",
              "      <td>England</td>\n",
              "      <td>https://cdn.sofifa.org/flags/14.png</td>\n",
              "      <td>46</td>\n",
              "      <td>66</td>\n",
              "      <td>Tranmere Rovers</td>\n",
              "      <td>...</td>\n",
              "      <td>43.0</td>\n",
              "      <td>40.0</td>\n",
              "      <td>43.0</td>\n",
              "      <td>50.0</td>\n",
              "      <td>10.0</td>\n",
              "      <td>15.0</td>\n",
              "      <td>9.0</td>\n",
              "      <td>12.0</td>\n",
              "      <td>9.0</td>\n",
              "      <td>€165K</td>\n",
              "    </tr>\n",
              "  </tbody>\n",
              "</table>\n",
              "<p>5 rows × 89 columns</p>\n",
              "</div>"
            ],
            "text/plain": [
              "       Unnamed: 0      ID                Name  Age  \\\n",
              "18202       18202  238813        J. Lundstram   19   \n",
              "18203       18203  243165  N. Christoffersson   19   \n",
              "18204       18204  241638           B. Worman   16   \n",
              "18205       18205  246268      D. Walker-Rice   17   \n",
              "18206       18206  246269           G. Nugent   16   \n",
              "\n",
              "                                                Photo Nationality  \\\n",
              "18202  https://cdn.sofifa.org/players/4/19/238813.png     England   \n",
              "18203  https://cdn.sofifa.org/players/4/19/243165.png      Sweden   \n",
              "18204  https://cdn.sofifa.org/players/4/19/241638.png     England   \n",
              "18205  https://cdn.sofifa.org/players/4/19/246268.png     England   \n",
              "18206  https://cdn.sofifa.org/players/4/19/246269.png     England   \n",
              "\n",
              "                                      Flag  Overall  Potential  \\\n",
              "18202  https://cdn.sofifa.org/flags/14.png       47         65   \n",
              "18203  https://cdn.sofifa.org/flags/46.png       47         63   \n",
              "18204  https://cdn.sofifa.org/flags/14.png       47         67   \n",
              "18205  https://cdn.sofifa.org/flags/14.png       47         66   \n",
              "18206  https://cdn.sofifa.org/flags/14.png       46         66   \n",
              "\n",
              "                   Club  ... Composure Marking StandingTackle  SlidingTackle  \\\n",
              "18202   Crewe Alexandra  ...      45.0    40.0           48.0           47.0   \n",
              "18203    Trelleborgs FF  ...      42.0    22.0           15.0           19.0   \n",
              "18204  Cambridge United  ...      41.0    32.0           13.0           11.0   \n",
              "18205   Tranmere Rovers  ...      46.0    20.0           25.0           27.0   \n",
              "18206   Tranmere Rovers  ...      43.0    40.0           43.0           50.0   \n",
              "\n",
              "      GKDiving  GKHandling  GKKicking  GKPositioning GKReflexes Release Clause  \n",
              "18202     10.0        13.0        7.0            8.0        9.0          €143K  \n",
              "18203     10.0         9.0        9.0            5.0       12.0          €113K  \n",
              "18204      6.0         5.0       10.0            6.0       13.0          €165K  \n",
              "18205     14.0         6.0       14.0            8.0        9.0          €143K  \n",
              "18206     10.0        15.0        9.0           12.0        9.0          €165K  \n",
              "\n",
              "[5 rows x 89 columns]"
            ]
          },
          "metadata": {
            "tags": []
          },
          "execution_count": 6
        }
      ]
    },
    {
      "cell_type": "markdown",
      "metadata": {
        "id": "wJVfdkKj0hoQ"
      },
      "source": [
        "## Over all ratings of Players"
      ]
    },
    {
      "cell_type": "code",
      "metadata": {
        "id": "YCMOjz1_0hoQ",
        "outputId": "edaa26ae-fa50-4f22-9e2d-400916f13495"
      },
      "source": [
        "plt.hist(fifa.Overall,color='r')\n",
        "plt.title('Overall skill ratings of players')\n",
        "plt.ylabel('Number of players')\n",
        "plt.xlabel('skills')\n",
        "plt.show()"
      ],
      "execution_count": null,
      "outputs": [
        {
          "output_type": "display_data",
          "data": {
            "image/png": "[encoded data removed]",
            "text/plain": [
              "<Figure size 432x288 with 1 Axes>"
            ]
          },
          "metadata": {
            "tags": [],
            "needs_background": "light"
          }
        }
      ]
    },
    {
      "cell_type": "markdown",
      "metadata": {
        "id": "HrYuSA0S0hoT"
      },
      "source": [
        "## Players of Juventus\n"
      ]
    },
    {
      "cell_type": "code",
      "metadata": {
        "id": "yhsX89Qn0hoU",
        "outputId": "8fc51fa7-55eb-4f9f-dd7c-61ba8b575c3a"
      },
      "source": [
        "juventus = fifa.loc[fifa['Club']=='Juventus']\n",
        "print(juventus)"
      ],
      "execution_count": null,
      "outputs": [
        {
          "output_type": "stream",
          "text": [
            "       Unnamed: 0      ID               Name  Age  \\\n",
            "1               1   20801  Cristiano Ronaldo   33   \n",
            "15             15  211110          P. Dybala   24   \n",
            "24             24  138956       G. Chiellini   33   \n",
            "64             64  191043        Alex Sandro   27   \n",
            "65             65  190483      Douglas Costa   27   \n",
            "70             70  184344         L. Bonucci   31   \n",
            "72             72  180206          M. Pjanić   28   \n",
            "73             73  177509         M. Benatia   31   \n",
            "92             92  186153        W. Szczęsny   28   \n",
            "99             99  179846         S. Khedira   31   \n",
            "103           103  170890         B. Matuidi   31   \n",
            "128           128  198009           M. Perin   25   \n",
            "129           129  193082        J. Cuadrado   30   \n",
            "139           139  181783       M. Mandžukić   32   \n",
            "152           152  137186        A. Barzagli   37   \n",
            "243           243  212404    F. Bernardeschi   24   \n",
            "245           245  211320          D. Rugani   23   \n",
            "247           247  210514       João Cancelo   24   \n",
            "448           448  208333             E. Can   24   \n",
            "815           815  206058      M. De Sciglio   25   \n",
            "1049         1049  202884      L. Spinazzola   25   \n",
            "1149         1149  227535       R. Bentancur   21   \n",
            "3418         3418  236610            M. Kean   18   \n",
            "3700         3700  189342       C. Pinsoglio   28   \n",
            "13896       13896  245491        P. Beruatto   19   \n",
            "\n",
            "                                                Photo         Nationality  \\\n",
            "1       https://cdn.sofifa.org/players/4/19/20801.png            Portugal   \n",
            "15     https://cdn.sofifa.org/players/4/19/211110.png           Argentina   \n",
            "24     https://cdn.sofifa.org/players/4/19/138956.png               Italy   \n",
            "64     https://cdn.sofifa.org/players/4/19/191043.png              Brazil   \n",
            "65     https://cdn.sofifa.org/players/4/19/190483.png              Brazil   \n",
            "70     https://cdn.sofifa.org/players/4/19/184344.png               Italy   \n",
            "72     https://cdn.sofifa.org/players/4/19/180206.png  Bosnia Herzegovina   \n",
            "73     https://cdn.sofifa.org/players/4/19/177509.png             Morocco   \n",
            "92     https://cdn.sofifa.org/players/4/19/186153.png              Poland   \n",
            "99     https://cdn.sofifa.org/players/4/19/179846.png             Germany   \n",
            "103    https://cdn.sofifa.org/players/4/19/170890.png              France   \n",
            "128    https://cdn.sofifa.org/players/4/19/198009.png               Italy   \n",
            "129    https://cdn.sofifa.org/players/4/19/193082.png            Colombia   \n",
            "139    https://cdn.sofifa.org/players/4/19/181783.png             Croatia   \n",
            "152    https://cdn.sofifa.org/players/4/19/137186.png               Italy   \n",
            "243    https://cdn.sofifa.org/players/4/19/212404.png               Italy   \n",
            "245    https://cdn.sofifa.org/players/4/19/211320.png               Italy   \n",
            "247    https://cdn.sofifa.org/players/4/19/210514.png            Portugal   \n",
            "448    https://cdn.sofifa.org/players/4/19/208333.png             Germany   \n",
            "815    https://cdn.sofifa.org/players/4/19/206058.png               Italy   \n",
            "1049   https://cdn.sofifa.org/players/4/19/202884.png               Italy   \n",
            "1149   https://cdn.sofifa.org/players/4/19/227535.png             Uruguay   \n",
            "3418   https://cdn.sofifa.org/players/4/19/236610.png               Italy   \n",
            "3700   https://cdn.sofifa.org/players/4/19/189342.png               Italy   \n",
            "13896  https://cdn.sofifa.org/players/4/19/245491.png               Italy   \n",
            "\n",
            "                                       Flag  Overall  Potential      Club  \\\n",
            "1       https://cdn.sofifa.org/flags/38.png       94         94  Juventus   \n",
            "15      https://cdn.sofifa.org/flags/52.png       89         94  Juventus   \n",
            "24      https://cdn.sofifa.org/flags/27.png       89         89  Juventus   \n",
            "64      https://cdn.sofifa.org/flags/54.png       86         86  Juventus   \n",
            "65      https://cdn.sofifa.org/flags/54.png       86         86  Juventus   \n",
            "70      https://cdn.sofifa.org/flags/27.png       86         86  Juventus   \n",
            "72       https://cdn.sofifa.org/flags/8.png       86         86  Juventus   \n",
            "73     https://cdn.sofifa.org/flags/129.png       86         86  Juventus   \n",
            "92      https://cdn.sofifa.org/flags/37.png       85         87  Juventus   \n",
            "99      https://cdn.sofifa.org/flags/21.png       85         85  Juventus   \n",
            "103     https://cdn.sofifa.org/flags/18.png       85         85  Juventus   \n",
            "128     https://cdn.sofifa.org/flags/27.png       84         89  Juventus   \n",
            "129     https://cdn.sofifa.org/flags/56.png       84         84  Juventus   \n",
            "139     https://cdn.sofifa.org/flags/10.png       84         84  Juventus   \n",
            "152     https://cdn.sofifa.org/flags/27.png       84         84  Juventus   \n",
            "243     https://cdn.sofifa.org/flags/27.png       82         87  Juventus   \n",
            "245     https://cdn.sofifa.org/flags/27.png       82         86  Juventus   \n",
            "247     https://cdn.sofifa.org/flags/38.png       82         88  Juventus   \n",
            "448     https://cdn.sofifa.org/flags/21.png       80         85  Juventus   \n",
            "815     https://cdn.sofifa.org/flags/27.png       78         81  Juventus   \n",
            "1049    https://cdn.sofifa.org/flags/27.png       77         80  Juventus   \n",
            "1149    https://cdn.sofifa.org/flags/60.png       77         89  Juventus   \n",
            "3418    https://cdn.sofifa.org/flags/27.png       72         87  Juventus   \n",
            "3700    https://cdn.sofifa.org/flags/27.png       72         72  Juventus   \n",
            "13896   https://cdn.sofifa.org/flags/27.png       62         78  Juventus   \n",
            "\n",
            "       ... Composure Marking StandingTackle  SlidingTackle GKDiving  \\\n",
            "1      ...      95.0    28.0           31.0           23.0      7.0   \n",
            "15     ...      84.0    23.0           20.0           20.0      5.0   \n",
            "24     ...      84.0    93.0           93.0           90.0      3.0   \n",
            "64     ...      82.0    81.0           84.0           84.0      7.0   \n",
            "65     ...      84.0    45.0           38.0           34.0     13.0   \n",
            "70     ...      86.0    90.0           86.0           80.0      2.0   \n",
            "72     ...      86.0    75.0           74.0           70.0      7.0   \n",
            "73     ...      82.0    89.0           87.0           85.0      7.0   \n",
            "92     ...      65.0    20.0           13.0           12.0     85.0   \n",
            "99     ...      84.0    80.0           83.0           76.0     11.0   \n",
            "103    ...      82.0    85.0           84.0           86.0      8.0   \n",
            "128    ...      65.0    20.0           12.0           19.0     81.0   \n",
            "129    ...      80.0    63.0           70.0           74.0      5.0   \n",
            "139    ...      80.0    59.0           64.0           64.0     10.0   \n",
            "152    ...      88.0    94.0           90.0           82.0      4.0   \n",
            "243    ...      83.0    65.0           46.0           42.0     14.0   \n",
            "245    ...      70.0    87.0           86.0           82.0      5.0   \n",
            "247    ...      77.0    79.0           79.0           79.0      6.0   \n",
            "448    ...      74.0    82.0           81.0           80.0     14.0   \n",
            "815    ...      72.0    79.0           78.0           78.0      5.0   \n",
            "1049   ...      74.0    77.0           76.0           76.0     11.0   \n",
            "1149   ...      80.0    75.0           72.0           64.0      8.0   \n",
            "3418   ...      68.0    27.0           28.0           16.0     13.0   \n",
            "3700   ...      64.0    20.0           12.0           13.0     74.0   \n",
            "13896  ...      56.0    64.0           66.0           68.0     14.0   \n",
            "\n",
            "       GKHandling  GKKicking  GKPositioning GKReflexes Release Clause  \n",
            "1            11.0       15.0           14.0       11.0        €127.1M  \n",
            "15            4.0        4.0            5.0        8.0        €153.5M  \n",
            "24            3.0        2.0            4.0        3.0         €44.6M  \n",
            "64            7.0        9.0           12.0        5.0         €60.2M  \n",
            "65           15.0        9.0           12.0        5.0         €76.7M  \n",
            "70            2.0        3.0            2.0        4.0         €49.5M  \n",
            "72            7.0       13.0            7.0        8.0         €72.6M  \n",
            "73            4.0        8.0            7.0       11.0         €49.5M  \n",
            "92           81.0       71.0           85.0       87.0         €55.2M  \n",
            "99            9.0        5.0           15.0        8.0         €54.5M  \n",
            "103          11.0        5.0           10.0       14.0         €42.9M  \n",
            "128          85.0       71.0           79.0       90.0         €50.9M  \n",
            "129           5.0       13.0            6.0        9.0         €48.7M  \n",
            "139           8.0        5.0            8.0       15.0         €41.3M  \n",
            "152           2.0        4.0            2.0        4.0          €6.9M  \n",
            "243          15.0       10.0           13.0       12.0         €50.9M  \n",
            "245          10.0        5.0            5.0        5.0         €42.3M  \n",
            "247           9.0       15.0           14.0       14.0         €47.2M  \n",
            "448           8.0        8.0           13.0       11.0         €33.6M  \n",
            "815           3.0        5.0            5.0        3.0         €18.1M  \n",
            "1049         13.0       12.0           15.0       14.0           €19M  \n",
            "1149          7.0       14.0           14.0       12.0         €28.7M  \n",
            "3418          8.0       10.0            7.0        9.0         €14.8M  \n",
            "3700         70.0       58.0           74.0       76.0          €3.6M  \n",
            "13896         5.0       12.0           10.0       12.0          €1.3M  \n",
            "\n",
            "[25 rows x 89 columns]\n"
          ],
          "name": "stdout"
        }
      ]
    },
    {
      "cell_type": "markdown",
      "metadata": {
        "id": "QqbZv88n0hoW"
      },
      "source": [
        "# Comparision between Dybala and mbappe"
      ]
    },
    {
      "cell_type": "code",
      "metadata": {
        "id": "bfC1758K0hoX",
        "outputId": "2549b9b4-09a2-4d43-aef1-7b57778adad3"
      },
      "source": [
        "dybala = fifa.loc[fifa['Name']=='P. Dybala']['Overall']\n",
        "mbappe = fifa.loc[fifa['Name']=='K. Mbappé']['Overall']\n",
        "plt.title('Dybala vs Mbappe')\n",
        "labels = ['dyabla','mbappe']\n",
        "plt.boxplot([dybala,mbappe], labels = labels)\n",
        "plt.legend(labels)\n",
        "plt.show()"
      ],
      "execution_count": null,
      "outputs": [
        {
          "output_type": "display_data",
          "data": {
            "image/png": "[encoded data removed]",
            "text/plain": [
              "<Figure size 432x288 with 1 Axes>"
            ]
          },
          "metadata": {
            "tags": [],
            "needs_background": "light"
          }
        }
      ]
    },
    {
      "cell_type": "markdown",
      "metadata": {
        "id": "eU9q-XJl0hoa"
      },
      "source": [
        "# Comparision between Juventus PSG and FCB on Overall Ratings"
      ]
    },
    {
      "cell_type": "code",
      "metadata": {
        "id": "q9WYDfZ90hoa",
        "outputId": "b90e56f9-cdf2-4c91-df62-9a87fed9d0a2"
      },
      "source": [
        "plt.figure(figsize=(5,8))\n",
        "juventus = fifa.loc[fifa.Club =='Juventus']['Overall']\n",
        "PSG = fifa.loc[fifa.Club =='Paris Saint-Germain']['Overall']\n",
        "FCB = fifa.loc[fifa.Club =='FC Barcelona']['Overall']\n",
        "labels = ['Juventus','PSG','FCB']\n",
        "plt.boxplot([juventus,PSG,FCB],labels = labels)\n",
        "plt.show()\n"
      ],
      "execution_count": null,
      "outputs": [
        {
          "output_type": "display_data",
          "data": {
            "image/png": "[encoded data removed]",
            "text/plain": [
              "<Figure size 360x576 with 1 Axes>"
            ]
          },
          "metadata": {
            "tags": [],
            "needs_background": "light"
          }
        }
      ]
    },
    {
      "cell_type": "code",
      "metadata": {
        "id": "CPd3pg4o0hoe"
      },
      "source": [
        ""
      ],
      "execution_count": null,
      "outputs": []
    }
  ]
}